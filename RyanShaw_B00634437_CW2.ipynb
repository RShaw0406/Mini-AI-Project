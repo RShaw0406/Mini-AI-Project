{
 "cells": [
  {
   "cell_type": "markdown",
   "id": "e169ee85",
   "metadata": {},
   "source": [
    "## Ryan Shaw (B00634437)\n",
    "\n",
    "## COM499 Artificial Intelligence - Assignment 2\n",
    "\n",
    "### Part A: Classification using Machine Learning (80%)"
   ]
  },
  {
   "cell_type": "markdown",
   "id": "7d85bd62",
   "metadata": {},
   "source": [
    "**Importing dataset:**\n",
    "- Below is code that imports some of the libraries required throughout all written code along with code that will import and display the dataset I am required to produce analysis on."
   ]
  },
  {
   "cell_type": "code",
   "execution_count": 1,
   "id": "08aa6bbc",
   "metadata": {
    "scrolled": false
   },
   "outputs": [
    {
     "data": {
      "text/html": [
       "<div>\n",
       "<style scoped>\n",
       "    .dataframe tbody tr th:only-of-type {\n",
       "        vertical-align: middle;\n",
       "    }\n",
       "\n",
       "    .dataframe tbody tr th {\n",
       "        vertical-align: top;\n",
       "    }\n",
       "\n",
       "    .dataframe thead th {\n",
       "        text-align: right;\n",
       "    }\n",
       "</style>\n",
       "<table border=\"1\" class=\"dataframe\">\n",
       "  <thead>\n",
       "    <tr style=\"text-align: right;\">\n",
       "      <th></th>\n",
       "      <th>ID</th>\n",
       "      <th>Gender</th>\n",
       "      <th>Location</th>\n",
       "      <th>x1</th>\n",
       "      <th>x2</th>\n",
       "      <th>x3</th>\n",
       "      <th>x4</th>\n",
       "      <th>x5</th>\n",
       "      <th>x6</th>\n",
       "      <th>x7</th>\n",
       "      <th>x8</th>\n",
       "      <th>x9</th>\n",
       "      <th>x10</th>\n",
       "      <th>x11</th>\n",
       "      <th>x12</th>\n",
       "      <th>x13</th>\n",
       "      <th>Diagnosis</th>\n",
       "    </tr>\n",
       "  </thead>\n",
       "  <tbody>\n",
       "    <tr>\n",
       "      <th>0</th>\n",
       "      <td>0</td>\n",
       "      <td>Male</td>\n",
       "      <td>Dublin</td>\n",
       "      <td>591.305146</td>\n",
       "      <td>-445.646021</td>\n",
       "      <td>-1792.511304</td>\n",
       "      <td>-43.554215</td>\n",
       "      <td>144.532731</td>\n",
       "      <td>31.930570</td>\n",
       "      <td>-326.565365</td>\n",
       "      <td>-27.181295</td>\n",
       "      <td>1491.214602</td>\n",
       "      <td>-16.075643</td>\n",
       "      <td>-1008.975591</td>\n",
       "      <td>1443.114521</td>\n",
       "      <td>1122.309632</td>\n",
       "      <td>1</td>\n",
       "    </tr>\n",
       "    <tr>\n",
       "      <th>1</th>\n",
       "      <td>1</td>\n",
       "      <td>NaN</td>\n",
       "      <td>London</td>\n",
       "      <td>1646.650850</td>\n",
       "      <td>-1231.555731</td>\n",
       "      <td>-544.183955</td>\n",
       "      <td>85.151732</td>\n",
       "      <td>-298.180013</td>\n",
       "      <td>91.094109</td>\n",
       "      <td>234.224992</td>\n",
       "      <td>-16.255377</td>\n",
       "      <td>3429.620922</td>\n",
       "      <td>-567.726922</td>\n",
       "      <td>-1894.958494</td>\n",
       "      <td>544.079461</td>\n",
       "      <td>2771.062100</td>\n",
       "      <td>2</td>\n",
       "    </tr>\n",
       "    <tr>\n",
       "      <th>2</th>\n",
       "      <td>2</td>\n",
       "      <td>Female</td>\n",
       "      <td>Belfast</td>\n",
       "      <td>17.937351</td>\n",
       "      <td>-594.165140</td>\n",
       "      <td>-647.680440</td>\n",
       "      <td>22.903837</td>\n",
       "      <td>NaN</td>\n",
       "      <td>15.474708</td>\n",
       "      <td>768.760910</td>\n",
       "      <td>-0.578832</td>\n",
       "      <td>82.072136</td>\n",
       "      <td>131.825799</td>\n",
       "      <td>86.705431</td>\n",
       "      <td>131.132690</td>\n",
       "      <td>1750.231751</td>\n",
       "      <td>0</td>\n",
       "    </tr>\n",
       "    <tr>\n",
       "      <th>3</th>\n",
       "      <td>3</td>\n",
       "      <td>Male</td>\n",
       "      <td>Belfast</td>\n",
       "      <td>985.648670</td>\n",
       "      <td>-903.923263</td>\n",
       "      <td>-775.103070</td>\n",
       "      <td>18.531142</td>\n",
       "      <td>52.600030</td>\n",
       "      <td>0.925980</td>\n",
       "      <td>624.792227</td>\n",
       "      <td>12.011113</td>\n",
       "      <td>NaN</td>\n",
       "      <td>-183.137698</td>\n",
       "      <td>-1333.005543</td>\n",
       "      <td>-266.900451</td>\n",
       "      <td>182.950280</td>\n",
       "      <td>2</td>\n",
       "    </tr>\n",
       "    <tr>\n",
       "      <th>4</th>\n",
       "      <td>4</td>\n",
       "      <td>Male</td>\n",
       "      <td>London</td>\n",
       "      <td>983.829283</td>\n",
       "      <td>-1431.588452</td>\n",
       "      <td>409.232842</td>\n",
       "      <td>40.739642</td>\n",
       "      <td>-258.700803</td>\n",
       "      <td>27.328327</td>\n",
       "      <td>-1005.938914</td>\n",
       "      <td>8.477903</td>\n",
       "      <td>1060.556109</td>\n",
       "      <td>263.230291</td>\n",
       "      <td>-1982.092159</td>\n",
       "      <td>976.272234</td>\n",
       "      <td>-585.290151</td>\n",
       "      <td>2</td>\n",
       "    </tr>\n",
       "  </tbody>\n",
       "</table>\n",
       "</div>"
      ],
      "text/plain": [
       "   ID  Gender Location           x1           x2           x3         x4  \\\n",
       "0   0    Male   Dublin   591.305146  -445.646021 -1792.511304 -43.554215   \n",
       "1   1     NaN   London  1646.650850 -1231.555731  -544.183955  85.151732   \n",
       "2   2  Female  Belfast    17.937351  -594.165140  -647.680440  22.903837   \n",
       "3   3    Male  Belfast   985.648670  -903.923263  -775.103070  18.531142   \n",
       "4   4    Male   London   983.829283 -1431.588452   409.232842  40.739642   \n",
       "\n",
       "           x5         x6           x7         x8           x9         x10  \\\n",
       "0  144.532731  31.930570  -326.565365 -27.181295  1491.214602  -16.075643   \n",
       "1 -298.180013  91.094109   234.224992 -16.255377  3429.620922 -567.726922   \n",
       "2         NaN  15.474708   768.760910  -0.578832    82.072136  131.825799   \n",
       "3   52.600030   0.925980   624.792227  12.011113          NaN -183.137698   \n",
       "4 -258.700803  27.328327 -1005.938914   8.477903  1060.556109  263.230291   \n",
       "\n",
       "           x11          x12          x13  Diagnosis  \n",
       "0 -1008.975591  1443.114521  1122.309632          1  \n",
       "1 -1894.958494   544.079461  2771.062100          2  \n",
       "2    86.705431   131.132690  1750.231751          0  \n",
       "3 -1333.005543  -266.900451   182.950280          2  \n",
       "4 -1982.092159   976.272234  -585.290151          2  "
      ]
     },
     "metadata": {},
     "output_type": "display_data"
    },
    {
     "data": {
      "text/html": [
       "<div>\n",
       "<style scoped>\n",
       "    .dataframe tbody tr th:only-of-type {\n",
       "        vertical-align: middle;\n",
       "    }\n",
       "\n",
       "    .dataframe tbody tr th {\n",
       "        vertical-align: top;\n",
       "    }\n",
       "\n",
       "    .dataframe thead th {\n",
       "        text-align: right;\n",
       "    }\n",
       "</style>\n",
       "<table border=\"1\" class=\"dataframe\">\n",
       "  <thead>\n",
       "    <tr style=\"text-align: right;\">\n",
       "      <th></th>\n",
       "      <th>ID</th>\n",
       "      <th>x1</th>\n",
       "      <th>x2</th>\n",
       "      <th>x3</th>\n",
       "      <th>x4</th>\n",
       "      <th>x5</th>\n",
       "      <th>x6</th>\n",
       "      <th>x7</th>\n",
       "      <th>x8</th>\n",
       "      <th>x9</th>\n",
       "      <th>x10</th>\n",
       "      <th>x11</th>\n",
       "      <th>x12</th>\n",
       "      <th>x13</th>\n",
       "      <th>Diagnosis</th>\n",
       "    </tr>\n",
       "  </thead>\n",
       "  <tbody>\n",
       "    <tr>\n",
       "      <th>count</th>\n",
       "      <td>392.000000</td>\n",
       "      <td>392.000000</td>\n",
       "      <td>391.000000</td>\n",
       "      <td>392.000000</td>\n",
       "      <td>392.000000</td>\n",
       "      <td>391.000000</td>\n",
       "      <td>392.000000</td>\n",
       "      <td>391.000000</td>\n",
       "      <td>392.000000</td>\n",
       "      <td>391.000000</td>\n",
       "      <td>392.000000</td>\n",
       "      <td>391.000000</td>\n",
       "      <td>392.000000</td>\n",
       "      <td>391.000000</td>\n",
       "      <td>392.000000</td>\n",
       "    </tr>\n",
       "    <tr>\n",
       "      <th>mean</th>\n",
       "      <td>195.500000</td>\n",
       "      <td>150.639335</td>\n",
       "      <td>-119.207335</td>\n",
       "      <td>-226.931403</td>\n",
       "      <td>8.740624</td>\n",
       "      <td>-30.617114</td>\n",
       "      <td>5.632518</td>\n",
       "      <td>-33.034180</td>\n",
       "      <td>0.985648</td>\n",
       "      <td>318.612845</td>\n",
       "      <td>6.581419</td>\n",
       "      <td>-66.567258</td>\n",
       "      <td>35.023544</td>\n",
       "      <td>427.607151</td>\n",
       "      <td>0.994898</td>\n",
       "    </tr>\n",
       "    <tr>\n",
       "      <th>std</th>\n",
       "      <td>113.304898</td>\n",
       "      <td>541.127659</td>\n",
       "      <td>831.058722</td>\n",
       "      <td>1011.499990</td>\n",
       "      <td>25.258413</td>\n",
       "      <td>253.889756</td>\n",
       "      <td>68.597234</td>\n",
       "      <td>773.984443</td>\n",
       "      <td>14.218005</td>\n",
       "      <td>877.385685</td>\n",
       "      <td>459.003375</td>\n",
       "      <td>1041.685930</td>\n",
       "      <td>648.449640</td>\n",
       "      <td>1423.408399</td>\n",
       "      <td>0.818566</td>\n",
       "    </tr>\n",
       "    <tr>\n",
       "      <th>min</th>\n",
       "      <td>0.000000</td>\n",
       "      <td>-1752.000753</td>\n",
       "      <td>-2004.988049</td>\n",
       "      <td>-3131.223063</td>\n",
       "      <td>-65.759403</td>\n",
       "      <td>-684.129336</td>\n",
       "      <td>-186.545981</td>\n",
       "      <td>-2261.472982</td>\n",
       "      <td>-34.718490</td>\n",
       "      <td>-2191.538860</td>\n",
       "      <td>-1272.063334</td>\n",
       "      <td>-2911.285396</td>\n",
       "      <td>-2019.047863</td>\n",
       "      <td>-3413.203205</td>\n",
       "      <td>0.000000</td>\n",
       "    </tr>\n",
       "    <tr>\n",
       "      <th>25%</th>\n",
       "      <td>97.750000</td>\n",
       "      <td>-187.153553</td>\n",
       "      <td>-709.174573</td>\n",
       "      <td>-906.715474</td>\n",
       "      <td>-8.170030</td>\n",
       "      <td>-193.288066</td>\n",
       "      <td>-46.225259</td>\n",
       "      <td>-475.987936</td>\n",
       "      <td>-8.674107</td>\n",
       "      <td>-236.505814</td>\n",
       "      <td>-304.794067</td>\n",
       "      <td>-890.633278</td>\n",
       "      <td>-377.404464</td>\n",
       "      <td>-457.432102</td>\n",
       "      <td>0.000000</td>\n",
       "    </tr>\n",
       "    <tr>\n",
       "      <th>50%</th>\n",
       "      <td>195.500000</td>\n",
       "      <td>121.699687</td>\n",
       "      <td>-178.087579</td>\n",
       "      <td>-309.242004</td>\n",
       "      <td>10.341885</td>\n",
       "      <td>-21.119164</td>\n",
       "      <td>12.171812</td>\n",
       "      <td>-37.142842</td>\n",
       "      <td>0.759139</td>\n",
       "      <td>298.345970</td>\n",
       "      <td>36.185664</td>\n",
       "      <td>-88.789079</td>\n",
       "      <td>16.247891</td>\n",
       "      <td>431.770186</td>\n",
       "      <td>1.000000</td>\n",
       "    </tr>\n",
       "    <tr>\n",
       "      <th>75%</th>\n",
       "      <td>293.250000</td>\n",
       "      <td>472.012525</td>\n",
       "      <td>483.854894</td>\n",
       "      <td>290.715678</td>\n",
       "      <td>26.322306</td>\n",
       "      <td>138.593566</td>\n",
       "      <td>53.769455</td>\n",
       "      <td>502.007793</td>\n",
       "      <td>10.561777</td>\n",
       "      <td>924.109571</td>\n",
       "      <td>311.012854</td>\n",
       "      <td>636.939333</td>\n",
       "      <td>452.084230</td>\n",
       "      <td>1418.902292</td>\n",
       "      <td>2.000000</td>\n",
       "    </tr>\n",
       "    <tr>\n",
       "      <th>max</th>\n",
       "      <td>391.000000</td>\n",
       "      <td>1788.885281</td>\n",
       "      <td>2205.480804</td>\n",
       "      <td>2801.793625</td>\n",
       "      <td>85.151732</td>\n",
       "      <td>687.540199</td>\n",
       "      <td>167.810458</td>\n",
       "      <td>2605.817570</td>\n",
       "      <td>46.108043</td>\n",
       "      <td>3429.620922</td>\n",
       "      <td>1361.415470</td>\n",
       "      <td>2901.347712</td>\n",
       "      <td>1602.334073</td>\n",
       "      <td>4939.415762</td>\n",
       "      <td>2.000000</td>\n",
       "    </tr>\n",
       "  </tbody>\n",
       "</table>\n",
       "</div>"
      ],
      "text/plain": [
       "               ID           x1           x2           x3          x4  \\\n",
       "count  392.000000   392.000000   391.000000   392.000000  392.000000   \n",
       "mean   195.500000   150.639335  -119.207335  -226.931403    8.740624   \n",
       "std    113.304898   541.127659   831.058722  1011.499990   25.258413   \n",
       "min      0.000000 -1752.000753 -2004.988049 -3131.223063  -65.759403   \n",
       "25%     97.750000  -187.153553  -709.174573  -906.715474   -8.170030   \n",
       "50%    195.500000   121.699687  -178.087579  -309.242004   10.341885   \n",
       "75%    293.250000   472.012525   483.854894   290.715678   26.322306   \n",
       "max    391.000000  1788.885281  2205.480804  2801.793625   85.151732   \n",
       "\n",
       "               x5          x6           x7          x8           x9  \\\n",
       "count  391.000000  392.000000   391.000000  392.000000   391.000000   \n",
       "mean   -30.617114    5.632518   -33.034180    0.985648   318.612845   \n",
       "std    253.889756   68.597234   773.984443   14.218005   877.385685   \n",
       "min   -684.129336 -186.545981 -2261.472982  -34.718490 -2191.538860   \n",
       "25%   -193.288066  -46.225259  -475.987936   -8.674107  -236.505814   \n",
       "50%    -21.119164   12.171812   -37.142842    0.759139   298.345970   \n",
       "75%    138.593566   53.769455   502.007793   10.561777   924.109571   \n",
       "max    687.540199  167.810458  2605.817570   46.108043  3429.620922   \n",
       "\n",
       "               x10          x11          x12          x13   Diagnosis  \n",
       "count   392.000000   391.000000   392.000000   391.000000  392.000000  \n",
       "mean      6.581419   -66.567258    35.023544   427.607151    0.994898  \n",
       "std     459.003375  1041.685930   648.449640  1423.408399    0.818566  \n",
       "min   -1272.063334 -2911.285396 -2019.047863 -3413.203205    0.000000  \n",
       "25%    -304.794067  -890.633278  -377.404464  -457.432102    0.000000  \n",
       "50%      36.185664   -88.789079    16.247891   431.770186    1.000000  \n",
       "75%     311.012854   636.939333   452.084230  1418.902292    2.000000  \n",
       "max    1361.415470  2901.347712  1602.334073  4939.415762    2.000000  "
      ]
     },
     "metadata": {},
     "output_type": "display_data"
    }
   ],
   "source": [
    "# Import required libraries\n",
    "import numpy as np\n",
    "import matplotlib.pyplot as plt\n",
    "import pandas as pd\n",
    "\n",
    "# Import dataset diagnose2.csv\n",
    "dataset = pd.read_csv('diagnose2.csv')\n",
    "\n",
    "# Display the imported dataset\n",
    "display(dataset.head())\n",
    "display(dataset.describe())"
   ]
  },
  {
   "cell_type": "markdown",
   "id": "9359ee93",
   "metadata": {},
   "source": [
    "- As you can see in the above output, there are several columns in the dataset that are currently missing data. There columns Gender and Diagnosis are included in the dataset which in reality are binary values i.e. a person is either male or female and they either test positive or test negative. In this case the 2's that appear in the Diagnosis variable data will need to be set to either 1 or 0.\n",
    "<br><br>\n",
    "- In this dataset the target variable is Diagnosis, this is the variable that the machine learning algorithms are attempting to predict.\n",
    "<br><br>\n",
    "- There is also a mixture of both categorical data and numerical data. Categorical data are attributes treated as distinct symbols or just names, there is no direct realtionship between the values [1]. ID, Gender, Location, and Diagnosis are categorical data and therefore missing data will need to be handled differently to the other variables in the dataset. It is also true that in this case ID, Gender, and Location can be classed as being nominal data, that is that they are equally valued [2] and do not hold any significance in terms of affecting the target variable (Diagnosis). \n",
    "<br><br>\n",
    "- I believe the best approach to analysing this dataset is to handle the missing data and recode categorical data before splitting the data into the training and test sets.\n",
    "<br><br>\n",
    "- I decided at this point to change the 2 values in the Diagnosis column to 0 which I am assuming is a negative diagnosis. This makes sense as we have to assume someone is negative until it is proven that they are positive."
   ]
  },
  {
   "cell_type": "code",
   "execution_count": 2,
   "id": "73bb4fe8",
   "metadata": {},
   "outputs": [],
   "source": [
    "# Replace 2's in Diagnosis data to 0\n",
    "dataset = dataset.replace({\"Diagnosis\" : 2}, 0)"
   ]
  },
  {
   "cell_type": "markdown",
   "id": "d835a1cc",
   "metadata": {},
   "source": [
    "**Handling missing data for both numerical and categorical variables:**\n",
    "- This section sets out how missing data both numerical and categorical is handled. For numerical data the \"mean\" strategy should suffice. For categorical data the \"most frequent\" strategy is the best approach in this case. For both approaches the SimpleImputer class  from Scikit learn will be used.\n",
    "<br><br>\n",
    "- The below code specifies the features in the variable X and sets the target in variable Y. In this case features are each row of data in the dataset apart from the Diagnosis variable as this is the target variable."
   ]
  },
  {
   "cell_type": "code",
   "execution_count": 3,
   "id": "453ae973",
   "metadata": {},
   "outputs": [
    {
     "name": "stdout",
     "output_type": "stream",
     "text": [
      "X: \n",
      "[0 'Male' 'Dublin' 591.3051465 -445.6460209 -1792.511304 -43.55421543\n",
      " 144.5327311 31.93057028 -326.5653653 -27.18129505 1491.214602\n",
      " -16.07564261 -1008.975591 1443.114521 1122.309632]\n",
      "\n",
      "Y: \n",
      "[1 0 0 0 0 1 0 0 0 1 0 0 1 0 0 1 1 0 1 1 0 0 1 0 0 1 1 0 0 0 1 0 0 0 0 0 1\n",
      " 1 0 0 0 0 0 0 1 1 1 0 0 0 0 1 0 0 0 0 0 1 0 1 0 1 1 1 1 1 1 0 1 0 0 1 0 1\n",
      " 1 0 1 1 0 0 0 0 0 1 0 1 0 0 1 1 1 1 0 0 1 0 0 0 1 0 1 1 0 1 0 0 0 0 0 0 0\n",
      " 0 0 1 1 0 0 0 1 0 1 0 0 1 0 0 1 0 0 1 0 0 0 1 0 1 1 0 0 0 0 0 0 0 0 0 1 1\n",
      " 1 0 0 0 0 0 1 0 1 1 0 1 1 1 0 0 0 0 0 0 1 0 0 0 0 1 0 0 0 1 1 1 1 0 0 0 0\n",
      " 0 0 0 0 0 0 0 0 0 0 0 0 0 0 0 1 0 0 1 0 0 1 1 1 0 1 0 0 1 0 0 1 0 1 0 0 0\n",
      " 0 1 0 0 0 1 0 0 0 1 1 1 0 1 0 1 0 0 0 0 1 0 0 1 0 0 1 0 0 0 0 1 0 0 0 1 0\n",
      " 1 0 0 0 0 0 1 0 0 0 1 0 0 1 1 0 0 0 0 1 0 0 1 1 0 0 1 1 0 0 0 0 1 0 0 0 0\n",
      " 0 0 0 0 1 1 0 0 0 0 1 1 0 0 1 1 0 0 1 1 0 1 0 0 0 0 0 1 0 0 0 1 0 1 1 0 0\n",
      " 0 1 0 0 1 0 1 0 1 0 0 1 0 1 0 0 0 0 0 0 0 0 0 0 0 0 0 1 0 1 0 0 0 0 0 1 1\n",
      " 0 0 0 0 1 0 0 1 0 0 0 1 1 0 0 1 0 1 0 0 1 0]\n"
     ]
    }
   ],
   "source": [
    "# Set features in X\n",
    "X = dataset.iloc[:, :-1].values\n",
    "\n",
    "# Set target (Diagnosis) in Y\n",
    "Y = dataset.iloc[:, 16].values\n",
    "\n",
    "# Test that X has been set \n",
    "print(f\"X: \")\n",
    "print(X[0])\n",
    "\n",
    "# Test that Y has been set\n",
    "print(\"\\nY: \")\n",
    "print(Y)"
   ]
  },
  {
   "cell_type": "markdown",
   "id": "825265a0",
   "metadata": {},
   "source": [
    "- As you can see in the output above X has been set to include all data up to the Diagnosis variable in each row. You can also see that Y now includes all data stored in the Diagnosis variable.\n",
    "<br><br>\n",
    "- The below code gets all variables from column 4 through to 15 in each row of the dataset and handles the missing data in this variables using the \"mean\" strategy. These columns hold numerical data. This approach is known as simple imputation and is widely used due to its simplicity and can be considered an easy refernce technique [3]."
   ]
  },
  {
   "cell_type": "code",
   "execution_count": 4,
   "id": "88d6b461",
   "metadata": {},
   "outputs": [
    {
     "name": "stdout",
     "output_type": "stream",
     "text": [
      "Pre Imputation X: \n",
      "[2 'Female' 'Belfast' 17.937351 -594.1651401 -647.6804397 22.9038367 nan\n",
      " 15.47470763 768.7609101 -0.578832268 82.07213639 131.825799 86.70543148\n",
      " 131.13269 1750.231751]\n",
      "\n",
      "Post Imputation X: \n",
      "[2 'Female' 'Belfast' 17.937351 -594.1651401 -647.6804397 22.9038367\n",
      " -30.617113789094628 15.47470763 768.7609101 -0.578832268 82.07213639\n",
      " 131.825799 86.70543148 131.13269 1750.231751]\n"
     ]
    }
   ],
   "source": [
    "# Import SimpleImputer library from Scikit learn\n",
    "from sklearn.impute import SimpleImputer\n",
    "\n",
    "# Print test row before imputation\n",
    "print(\"Pre Imputation X: \")\n",
    "print(X[2])\n",
    "\n",
    "# Declare new SimpleImputer object with the \"mean\" strategy, missing_values in dataset are \"nan\" \n",
    "imputerNumeric = SimpleImputer(missing_values=np.nan, strategy='mean')\n",
    "\n",
    "# Use the imputer object to set the missing values in columns 4 to 15 these columns are the numeric data\n",
    "X[:,3:16] = imputerNumeric.fit_transform(X[:,3:16])\n",
    "\n",
    "# Test that the imputation has worked, print out row 3 in the dataset as we know from earlier that this contains a nan value\n",
    "print(\"\\nPost Imputation X: \")\n",
    "print(X[2])"
   ]
  },
  {
   "cell_type": "markdown",
   "id": "2d265ece",
   "metadata": {},
   "source": [
    "- As you can see from the above output the imputation has successfully handled the missing data. The \"nan\" data in row 3 of the dataset has been set to the mean value \"-30.61711378909462\".\n",
    "<br><br>\n",
    "- The below code gets variables from column 2 and 3 in each row of the dataset and handles the missing data in this variables using the \"most frequent\" strategy. These columns hold categorical data. This is a common approach for handling missing categorical data and works well with small datasets like the one being analysed here [4]."
   ]
  },
  {
   "cell_type": "code",
   "execution_count": 5,
   "id": "2a20932b",
   "metadata": {},
   "outputs": [
    {
     "name": "stdout",
     "output_type": "stream",
     "text": [
      "Pre Imputation X: \n",
      "[1 nan 'London' 1646.65085 -1231.555731 -544.1839545 85.15173229\n",
      " -298.1800129 91.09410919 234.2249924 -16.25537703 3429.620922\n",
      " -567.7269218 -1894.958494 544.0794606 2771.0621]\n",
      "\n",
      "Post Imputation X: \n",
      "[1 'Male' 'London' 1646.65085 -1231.555731 -544.1839545 85.15173229\n",
      " -298.1800129 91.09410919 234.2249924 -16.25537703 3429.620922\n",
      " -567.7269218 -1894.958494 544.0794606 2771.0621]\n"
     ]
    }
   ],
   "source": [
    "# Print test row before imputation\n",
    "print(\"Pre Imputation X: \")\n",
    "print(X[1])\n",
    "\n",
    "# Declare new SimpleImputer object with the \"most frequent\" strategy,  missing_values in dataset are \"nan\"\n",
    "imputerCategorical = SimpleImputer(missing_values=np.nan, strategy='most_frequent')\n",
    "\n",
    "# Use the imputer object to set the missing values in columns 2 and 3 these columns are the categorical data\n",
    "X[:,1:3] = imputerCategorical.fit_transform(X[:,1:3])\n",
    "\n",
    "# Test that the imputation has worked, print out row 2 in the dataset as we know from earlier that this contains a nan value\n",
    "print(\"\\nPost Imputation X: \")\n",
    "print(X[1])"
   ]
  },
  {
   "cell_type": "markdown",
   "id": "05f34ae8",
   "metadata": {},
   "source": [
    "- As you can see from the above output the imputation has successfully handled the missing data. The \"nan\" data in row 3 of the dataset has been set to the most frequent value \"Male\".\n",
    "<br><br>\n",
    "- Although the imputation techniques I have deployed here work for this type and size of dataset it must be noted that when it comes to large datasets and \"big data\" they may perform poorly with the potential for bias or unrealistic results [5]."
   ]
  },
  {
   "cell_type": "markdown",
   "id": "52dec0ca",
   "metadata": {},
   "source": [
    "**Recoding of categorical variables to enable their use in the classification algorithms:**\n",
    "- This section sets out how I recoded the categorical variables in this dataset. The categorical variables in this case contain textual data which can cause issues within algorithms when calcualtions are attempted. The use of dummy variables is one way to resolve this problem. A dummy variable is a binary variable coded as 1 or 0 to represent the presence or absence of a variable [6].\n",
    "<br><br>\n",
    "- To created dummy variables I have used the one hot encoding technique which is the most widely used coding scheme. One hot encoding transforms a single variable with n observations and d distinct values, to d binary variables with n observations each [7]. Dummy variables are created alphabetically based on the data stored in the variable that is being recoded.\n",
    "<br><br>\n",
    "- The below code uses the Scikit learn OneHotEncoder library to recode the Location variable and create the dummy variables associated with the Location data in the dataset."
   ]
  },
  {
   "cell_type": "code",
   "execution_count": 6,
   "id": "63b83a1b",
   "metadata": {},
   "outputs": [
    {
     "name": "stdout",
     "output_type": "stream",
     "text": [
      "Pre Location recoding X: \n",
      "[0 'Male' 'Dublin' 591.3051465 -445.6460209 -1792.511304 -43.55421543\n",
      " 144.5327311 31.93057028 -326.5653653 -27.18129505 1491.214602\n",
      " -16.07564261 -1008.975591 1443.114521 1122.309632]\n",
      "\n",
      "Post Location recoding X: \n",
      "[0 'Male' 0.0 1.0 0.0 591.3051465 -445.6460209 -1792.511304 -43.55421543\n",
      " 144.5327311 31.93057028 -326.5653653 -27.18129505 1491.214602\n",
      " -16.07564261 -1008.975591 1443.114521 1122.309632]\n"
     ]
    }
   ],
   "source": [
    "# Import OneHotEncoder library from Scikit learn\n",
    "from sklearn.preprocessing import OneHotEncoder\n",
    "\n",
    "# Print test row before recoding\n",
    "print(\"Pre Location recoding X: \")\n",
    "print(X[0])\n",
    "\n",
    "# Declare new OneHotEncoder object, handle_unknown=\"ignore\" means in the case of unkown categories will be given 0 \n",
    "encoderLocation = OneHotEncoder(handle_unknown='ignore')\n",
    "\n",
    "# Store ID and Gender data so it can be added to the dataset again at the start\n",
    "idGenderData = X[:,0:2].reshape(-1, 2)\n",
    "\n",
    "# Store Location data to be recoded\n",
    "locationData = X[:,2].reshape(-1, 1)\n",
    "\n",
    "# Store recoded Location data in array\n",
    "locationDataArray = encoderLocation.fit_transform(locationData).toarray()\n",
    "\n",
    "# Add recoded Location data back into dataset\n",
    "X = np.concatenate((locationDataArray, X[:, 3:16]),axis=1)\n",
    "\n",
    "# Add ID and Gender data back into dataset\n",
    "X = np.concatenate((idGenderData, X[:, 0:16]),axis=1)\n",
    "\n",
    "# Test that Location recoding has worked, print out row 0 in the dataset\n",
    "print(\"\\nPost Location recoding X: \")\n",
    "print(X[0])"
   ]
  },
  {
   "cell_type": "markdown",
   "id": "a12eba91",
   "metadata": {},
   "source": [
    "- As you can see from the above output the Location data has been recoded and split into 3 dummy variables, one for each of the 3 different locations that are stored in the dataset. As previously stated dummy variables are created alphabetically based on the data stored in the variable that is being recoded. Therefore in this case the dummy variables will look like the following for each of the different locations: Belfast = 1.0 0.0 0.0, Dublin = 0.0 1.0 0.0, London = 0.0 0.0 1.0\n",
    "<br><br>\n",
    "- The below code uses the Scikit learn OneHotEncoder library to recode the Gender variable and create the dummy variables associated with the Gender data in the dataset."
   ]
  },
  {
   "cell_type": "code",
   "execution_count": 7,
   "id": "2e89496c",
   "metadata": {},
   "outputs": [
    {
     "name": "stdout",
     "output_type": "stream",
     "text": [
      "Pre Gender recoding X: \n",
      "[0 'Male' 0.0 1.0 0.0 591.3051465 -445.6460209 -1792.511304 -43.55421543\n",
      " 144.5327311 31.93057028 -326.5653653 -27.18129505 1491.214602\n",
      " -16.07564261 -1008.975591 1443.114521 1122.309632]\n",
      "\n",
      "Post Gender recoding X: \n",
      "[0 0.0 1.0 0.0 1.0 0.0 591.3051465 -445.6460209 -1792.511304 -43.55421543\n",
      " 144.5327311 31.93057028 -326.5653653 -27.18129505 1491.214602\n",
      " -16.07564261 -1008.975591]\n"
     ]
    }
   ],
   "source": [
    "# Print test row before recoding\n",
    "print(\"Pre Gender recoding X: \")\n",
    "print(X[0])\n",
    "\n",
    "# Declare new OneHotEncoder object, handle_unknown=\"ignore\" means in the case of unkown categories will be given 0 \n",
    "encoderGender = OneHotEncoder(handle_unknown='ignore')\n",
    "\n",
    "# Store ID data so it can be added to the dataset again at the start\n",
    "idData = X[:,0].reshape(-1, 1)\n",
    "\n",
    "# Store Gender data to be recoded\n",
    "genderData = X[:,1].reshape(-1, 1)\n",
    "\n",
    "# Store recoded Gender data in array\n",
    "genderDataArray = encoderGender.fit_transform(genderData).toarray()\n",
    "\n",
    "# Add recoded Gender data back into dataset\n",
    "X = np.concatenate((genderDataArray, X[:, 2:16]),axis=1)\n",
    "\n",
    "# Add ID data back into dataset\n",
    "X = np.concatenate((idData, X[:, 0:16]),axis=1)\n",
    "\n",
    "# Test that Location recoding has worked, print out row 0 in the dataset\n",
    "print(\"\\nPost Gender recoding X: \")\n",
    "print(X[0])"
   ]
  },
  {
   "cell_type": "markdown",
   "id": "9666ae12",
   "metadata": {},
   "source": [
    "- As you can see from the above output the Gender data has been recoded and split into 2 dummy variables, one for both genders that are stored in the dataset. As previously stated dummy variables are created alphabetically based on the data stored in the variable that is being recoded. Therefore in this case the dummy variables will look like the following for each of the different genders: Female = 1.0 0.0, Male = 0.0 1.0\n",
    "<br><br> \n",
    "- Another option to recode would have been the label encoding technique. This technique would have assigned a numeric value to each of the different data stored in the categorical variables. However, I believe the one hot encoding technique is better as label encoding can make it seem as though there is a ranking in values [8], meaning it could be interrupted as one value being worth more than another which is not the case in the dataset I am analysing."
   ]
  },
  {
   "cell_type": "markdown",
   "id": "c0d91e2f",
   "metadata": {},
   "source": [
    "**Creating a training set for building a classifier using cross-validation, and a separate test set:**\n",
    "- This section sets out how I created the test an and train sets that will be used later for building the algorithm classifiers.\n",
    "<br><br>\n",
    "- The below code uses the Scikit learn train_test_split library to perform the train and test split on the dataset."
   ]
  },
  {
   "cell_type": "code",
   "execution_count": 8,
   "id": "d17d1139",
   "metadata": {},
   "outputs": [
    {
     "name": "stdout",
     "output_type": "stream",
     "text": [
      "X_train: \n",
      "[[218 1.0 0.0 ... 347.5217703 278.8546768 1592.212563]\n",
      " [254 0.0 1.0 ... -1338.25921 -457.5211352 1803.452377]\n",
      " [299 1.0 0.0 ... 841.7755683 194.0225537 -654.6161471]\n",
      " ...\n",
      " [117 0.0 1.0 ... -1189.741809 -75.98622531 208.5133433]\n",
      " [47 0.0 1.0 ... 398.6484396 852.8361183 -872.159654]\n",
      " [172 0.0 1.0 ... 605.2956319 -425.0570693 403.3160008]]\n",
      "\n",
      "X_test: \n",
      "[[144 1.0 0.0 ... -901.7869606 365.4597739 2901.347712]\n",
      " [280 0.0 1.0 ... 665.2351025 -686.5941913 -1282.913374]\n",
      " [68 1.0 0.0 ... -164.6352031 120.7850691 1898.784329]\n",
      " ...\n",
      " [55 0.0 1.0 ... -28.9399856 -733.9748226 -307.8119067]\n",
      " [260 0.0 1.0 ... 66.17541082 -688.5560418 -8.68828564]\n",
      " [214 1.0 0.0 ... 334.1383468 -853.499496 -290.3024001]]\n",
      "\n",
      "Y_train: \n",
      "[1 0 0 0 0 0 0 0 0 1 0 0 1 0 0 1 0 1 0 0 1 1 0 0 0 1 0 0 1 0 0 0 1 0 0 1 1\n",
      " 0 1 0 0 0 0 1 0 0 1 1 1 0 0 0 0 0 1 1 0 1 0 0 1 0 1 1 1 0 0 1 1 1 0 0 0 1\n",
      " 0 0 0 0 0 1 0 0 0 0 0 0 0 1 0 0 1 1 0 0 0 0 0 1 0 1 1 1 0 0 0 1 0 1 1 0 0\n",
      " 0 0 1 1 0 1 0 0 0 1 0 1 0 0 0 0 0 0 1 1 0 1 1 1 0 0 1 1 1 1 0 1 1 0 0 1 0\n",
      " 0 1 0 0 0 1 0 1 0 0 0 0 0 1 0 1 1 0 0 0 1 0 0 0 1 0 1 0 0 1 0 1 0 0 0 1 0\n",
      " 0 0 0 0 0 0 0 0 0 0 0 1 1 0 0 0 0 0 1 1 0 1 0 1 0 0 0 0 0 1 0 0 1 0 1 0 1\n",
      " 0 0 0 0 0 0 0 1 0 1 1 0 1 0 0 1 0 1 0 0 1 0 1 0 0 0 1 1 0 1 0 0 0 1 0 0 0\n",
      " 1 0 0 0 0 0 0 0 0 0 0 0 0 0 0 0 1 1 1 1 0 0 0 0 0 0 1 0 0 1 0 1 0 0 0 0 0\n",
      " 1 1 0 0 0 1 0 0 1 0 0 0 1 0 0 0 0]\n",
      "\n",
      "Y_test: \n",
      "[0 0 1 0 0 0 0 0 0 0 0 1 1 0 0 0 0 1 1 0 0 0 1 0 1 1 0 1 0 1 0 0 1 0 0 0 0\n",
      " 1 0 0 0 1 1 0 1 0 0 1 0 0 1 0 1 1 1 0 1 0 1 0 1 0 0 1 0 1 0 0 0 0 0 0 0 0\n",
      " 1 1 0 0 0]\n"
     ]
    }
   ],
   "source": [
    "# Import train_test_split library from Scikit learn\n",
    "from sklearn.model_selection import train_test_split\n",
    "\n",
    "# Create training and test sets, use 0.2 as test_size this is the ideal size for the size of the dataset\n",
    "X_train, X_test, Y_train, Y_test = train_test_split(X, Y, test_size = 0.2, random_state = 0)\n",
    "\n",
    "# Test that the test and train sets have been created\n",
    "print(\"X_train: \")\n",
    "print(X_train)\n",
    "print(\"\\nX_test: \")\n",
    "print(X_test)\n",
    "print(\"\\nY_train: \")\n",
    "print(Y_train)\n",
    "print(\"\\nY_test: \")\n",
    "print(Y_test)"
   ]
  },
  {
   "cell_type": "markdown",
   "id": "ebb42d45",
   "metadata": {},
   "source": [
    "- As you can see from the above output the train and test sets have been successfully created to be used later when building the algoreithm classifiers. Again I decided to use an 80/20 split, 80% training, 20%, test as although there is no consensus on what is the best approach, this seems to be the most widely used split."
   ]
  },
  {
   "cell_type": "markdown",
   "id": "8e4b1e7b",
   "metadata": {},
   "source": [
    "**Feature scaling based on the training set and applied to both the training set and the test set:**\n",
    "- Feature scaling is a key statisitical technique that scales the data so that each variables data is within a similar range. The 2 main feature scaling techniques are Normalisation and Standardisation. For this dataset I have implemented the Standardisation technique as Normaisation can be sensitive to outliers which this dataset has [9].\n",
    "<br><br>\n",
    "- The below code use the Scikit learn StandardScaler library to perform feature scaling on both the test and train sets."
   ]
  },
  {
   "cell_type": "code",
   "execution_count": 9,
   "id": "a63c7473",
   "metadata": {},
   "outputs": [
    {
     "name": "stdout",
     "output_type": "stream",
     "text": [
      "Pre Feature Scaling mean:\n",
      "Mean of X_train: 7.333\n",
      "Mean of X_test: 32.924\n",
      "\n",
      "Pre Feature Scaling standard deviation:\n",
      "Standard Deviation of X_train: 542.291\n",
      "Standard Deviation of X_test: 532.719\n",
      "\n",
      "Post Feature Scaling mean:\n",
      "Mean of X_train: 0.000\n",
      "Mean of X_test: 0.000\n",
      "\n",
      "Post Feature Scaling standard deviation:\n",
      "Standard Deviation of X_train: 1.000\n",
      "Standard Deviation of X_test: 1.000\n"
     ]
    }
   ],
   "source": [
    "# Import StandardScaler library from Scikit learn\n",
    "from sklearn.preprocessing import StandardScaler\n",
    "\n",
    "# Print test mean before feature scaling\n",
    "print(\"Pre Feature Scaling mean:\")\n",
    "print(\"Mean of X_train: {:5.3f}\".format(np.mean(X_train)))\n",
    "print(\"Mean of X_test: {:5.3f}\".format(np.mean(X_test)))\n",
    "\n",
    "# Print test standard deviation before feature scaling\n",
    "print(\"\\nPre Feature Scaling standard deviation:\")\n",
    "print(\"Standard Deviation of X_train: {:5.3f}\".format(np.std(X_train)))\n",
    "print(\"Standard Deviation of X_test: {:5.3f}\".format(np.std(X_test)))\n",
    "\n",
    "# Decalre new StandardScaler object\n",
    "scaler = StandardScaler()\n",
    "\n",
    "# Scale train set\n",
    "X_train = scaler.fit_transform(X_train)\n",
    "\n",
    "# Scale test set\n",
    "X_test = scaler.fit_transform(X_test)\n",
    "\n",
    "# Test that standardisation has worked, check that mean = 0\n",
    "print(\"\\nPost Feature Scaling mean:\")\n",
    "print(\"Mean of X_train: {:5.3f}\".format(np.mean(X_train)))\n",
    "print(\"Mean of X_test: {:5.3f}\".format(np.mean(X_test)))\n",
    "\n",
    "# Test that standardisation has worked, check that standard deviation = 1\n",
    "print(\"\\nPost Feature Scaling standard deviation:\")\n",
    "print(\"Standard Deviation of X_train: {:5.3f}\".format(np.std(X_train)))\n",
    "print(\"Standard Deviation of X_test: {:5.3f}\".format(np.std(X_test)))"
   ]
  },
  {
   "cell_type": "markdown",
   "id": "764efb78",
   "metadata": {},
   "source": [
    "- As you can see from the above output feature scaling using the Standardisation technique has been successful. The mean of both the test and train sets is now 0 and the standard deviation is 1 as expected. This should go some way to ensuring that there is no bias or invalid results when the algorithms are run."
   ]
  },
  {
   "cell_type": "markdown",
   "id": "5b89859b",
   "metadata": {},
   "source": [
    "**Using 10-fold cross-validation applied to the training set to build a classifier for each of your two \n",
    "Machine Learning methods (using the default parameters in each case):**\n",
    "- This section sets out how I carried out cross validation. K-fold cross validation is a validation method for multiclass classification. Results are validated by randomly distributing the dataset in different groups [10]. In this case K-fold cross validation is applied to the training sets that were created earlier.\n",
    "<br><br>\n",
    "- The below code performs K-fold cross validation using a Support Vector Machine classifier."
   ]
  },
  {
   "cell_type": "code",
   "execution_count": 10,
   "id": "fc3dfb26",
   "metadata": {},
   "outputs": [
    {
     "name": "stdout",
     "output_type": "stream",
     "text": [
      "Support Vector Machine cross validation complete...\n"
     ]
    }
   ],
   "source": [
    "# Import KFold,cross_validate libraries from Scikit learn\n",
    "from sklearn.model_selection import KFold, cross_validate\n",
    "\n",
    "# Import SVC library from Scikit learn\n",
    "from sklearn.svm import SVC\n",
    "\n",
    "# Declare new SVC object\n",
    "supportVectorMachineClassifier = SVC(kernel = 'rbf', random_state = 0, probability=True)\n",
    "\n",
    "# Declare new KFold obecjt with n_splits= 10 (This is the number of splits to be done on the train sets)\n",
    "crossValidateSVM = KFold(n_splits=10, shuffle=True, random_state = 0)\n",
    "\n",
    "# Perfrom cross validation on train sets and store result scores (accuracy and precision)\n",
    "supportVectorMachineScores = cross_validate(estimator=supportVectorMachineClassifier, scoring={\"accuracy\",'precision'}, \n",
    "                                            X = X_train, y = Y_train, cv = crossValidateSVM)\n",
    "\n",
    "# Check if cross validation has been successfully performed on train sets\n",
    "if supportVectorMachineScores is not None:\n",
    "    print(\"Support Vector Machine cross validation complete...\")\n",
    "else:\n",
    "    print(\"Problem with Support Vector Machine cross validation...\")"
   ]
  },
  {
   "cell_type": "markdown",
   "id": "0fc56bcf",
   "metadata": {},
   "source": [
    "- As you can see from the above output K-fold cross validation on the training sets using the Suppoprt Vector Machine classifier has been successfuly carried out.\n",
    "<br><br>\n",
    "- The below code provides a summary of the result scores for Support Vector Machine cross validation."
   ]
  },
  {
   "cell_type": "code",
   "execution_count": 11,
   "id": "4947525c",
   "metadata": {},
   "outputs": [
    {
     "name": "stdout",
     "output_type": "stream",
     "text": [
      "Support Vector Machine accuracy for each fold:\n",
      "[0.78125    0.71875    0.75       0.74193548 0.93548387 0.77419355\n",
      " 0.77419355 0.80645161 0.64516129 0.64516129]\n",
      "\n",
      "Support Vector Machine mean accuracy: 0.757\n",
      "Support Vector Machine standard deviation in accuracy: 0.079\n",
      "\n",
      "Support Vector Machine mean precision: 0.676\n",
      "Support Vector Machine standard deviation in precision: 0.194\n"
     ]
    }
   ],
   "source": [
    "# Print Support Vector Machine accuracy for each fold\n",
    "print('Support Vector Machine accuracy for each fold:')\n",
    "print(supportVectorMachineScores['test_accuracy'])\n",
    "\n",
    "# Print Support Vector Machine mean accuracy and standard deviation in accuracy\n",
    "print('\\nSupport Vector Machine mean accuracy: {:5.3f}'.format(supportVectorMachineScores['test_accuracy'].mean()))\n",
    "print('Support Vector Machine standard deviation in accuracy: {:5.3f}\\n'\n",
    "      .format(supportVectorMachineScores['test_accuracy'].std()))\n",
    "\n",
    "# Print Support Vector Machine mean precision and standard deviation in precision\n",
    "print('Support Vector Machine mean precision: {:5.3f}'.format(supportVectorMachineScores['test_precision'].mean()))\n",
    "print('Support Vector Machine standard deviation in precision: {:5.3f}'.\n",
    "      format(supportVectorMachineScores['test_precision'].std()))"
   ]
  },
  {
   "cell_type": "markdown",
   "id": "c82d746e",
   "metadata": {},
   "source": [
    "- The below code performs K-fold cross validation using a Decision Tree classifier."
   ]
  },
  {
   "cell_type": "code",
   "execution_count": 12,
   "id": "c747e669",
   "metadata": {},
   "outputs": [
    {
     "name": "stdout",
     "output_type": "stream",
     "text": [
      "Decision Tree cross validation complete...\n"
     ]
    }
   ],
   "source": [
    "# Import DecisionTreeClassifier library from Scikit learn\n",
    "from sklearn.tree import DecisionTreeClassifier\n",
    "\n",
    "# Declare new DecisionTreeClassifier object\n",
    "decisionTreeClassifier = DecisionTreeClassifier(criterion = 'entropy', random_state = 0, ccp_alpha= 0.0)\n",
    "\n",
    "# Declare new KFold obecjt with n_splits= 10 (This is the number of splits to be done on the train sets)\n",
    "crossValidateDecisionTree = KFold(n_splits=10, shuffle=True, random_state = 0)\n",
    "\n",
    "# Perfrom cross validation on train sets and store result scores (accuracy and precision)\n",
    "decisionTreeScores = cross_validate(estimator=decisionTreeClassifier, scoring={\"accuracy\",'precision'}, \n",
    "                                            X = X_train, y = Y_train, cv = crossValidateDecisionTree)\n",
    "\n",
    "# Check if cross validation has been successfully performed on train sets\n",
    "if decisionTreeScores is not None:\n",
    "    print(\"Decision Tree cross validation complete...\")\n",
    "else:\n",
    "    print(\"Problem with Decision Tree cross validation...\")"
   ]
  },
  {
   "cell_type": "markdown",
   "id": "172496e4",
   "metadata": {},
   "source": [
    "- As you can see from the above output K-fold cross validation on the training sets using the Decision Tree classifier has been successfuly carried out.\n",
    "<br><br>\n",
    "- The below code provides a summary of the result scores for Decision Tree cross validation."
   ]
  },
  {
   "cell_type": "code",
   "execution_count": 13,
   "id": "10fc279a",
   "metadata": {},
   "outputs": [
    {
     "name": "stdout",
     "output_type": "stream",
     "text": [
      "Decision Tree accuracy for each fold:\n",
      "[0.84375    0.8125     0.78125    0.80645161 0.83870968 0.70967742\n",
      " 0.74193548 0.87096774 0.70967742 0.67741935]\n",
      "\n",
      "Decision Tree mean accuracy: 0.779\n",
      "Decision Tree standard deviation in accuracy: 0.063\n",
      "\n",
      "Decision Tree mean precision: 0.659\n",
      "Decision Tree standard deviation in precision: 0.140\n"
     ]
    }
   ],
   "source": [
    "# Print Decision Tree accuracy for each fold\n",
    "print('Decision Tree accuracy for each fold:')\n",
    "print(decisionTreeScores['test_accuracy'])\n",
    "\n",
    "# Print Decision Tree mean accuracy and standard deviation in accuracy\n",
    "print('\\nDecision Tree mean accuracy: {:5.3f}'.format(decisionTreeScores['test_accuracy'].mean()))\n",
    "print('Decision Tree standard deviation in accuracy: {:5.3f}\\n'.format(decisionTreeScores['test_accuracy'].std()))\n",
    "\n",
    "# Print Decision Tree mean precision and standard deviation in precision\n",
    "print('Decision Tree mean precision: {:5.3f}'.format(decisionTreeScores['test_precision'].mean()))\n",
    "print('Decision Tree standard deviation in precision: {:5.3f}'.format(decisionTreeScores['test_precision'].std()))"
   ]
  },
  {
   "cell_type": "markdown",
   "id": "6e081d95",
   "metadata": {},
   "source": [
    "- The below code demonstrates the comparison between the cross validation score results for both algorithms."
   ]
  },
  {
   "cell_type": "code",
   "execution_count": 14,
   "id": "a4ad393f",
   "metadata": {},
   "outputs": [
    {
     "data": {
      "image/png": "[encoded data removed]",
      "text/plain": [
       "<Figure size 640x480 with 1 Axes>"
      ]
     },
     "metadata": {},
     "output_type": "display_data"
    }
   ],
   "source": [
    "# Get Y axis points for each cross validation fold accuracy results scores\n",
    "yPointsSVM = np.array(supportVectorMachineScores['test_accuracy'])\n",
    "yPointsDT = np.array(decisionTreeScores['test_accuracy'])\n",
    "\n",
    "# Set Y axis labels\n",
    "yAxisLabels = np.array([1, 2, 3, 4, 5, 6, 7, 8, 9, 10])\n",
    "\n",
    "# Plot points on graph\n",
    "plt.plot(yAxisLabels, yPointsSVM, marker = 'o',)\n",
    "plt.plot(yAxisLabels, yPointsDT, marker = 'o',)\n",
    "\n",
    "# Add X and Y labels and Title\n",
    "plt.xlabel(\"Fold Number\")\n",
    "plt.ylabel(\"Accuracy\")\n",
    "plt.title(\"SVM & DT (Accuracy for each fold comparison)\")\n",
    "\n",
    "# Add legend\n",
    "plt.legend([\"SVM\", \"DT\"])\n",
    "\n",
    "# Show graph\n",
    "plt.show()"
   ]
  },
  {
   "cell_type": "markdown",
   "id": "7aac9cf6",
   "metadata": {},
   "source": [
    "- Using K-fold cross validation here should help limit problems that the algorithms may encounter such as over fitting and under fitting. It should also help get an intuition on how the model will generalise to an independent dataset [11]. I decided to use 10-fold cross-validation here as the dataset is limited in size though in theory the number of folds could be anything depending on the size of the dataset being analysed."
   ]
  },
  {
   "cell_type": "markdown",
   "id": "eea1454a",
   "metadata": {},
   "source": [
    "**Comparison of the performance of the two Machine Learning algorithms, using appropriate \n",
    "evaluation metrics (using the default parameters in each case)**\n",
    "- This section sets out how the Support Vectore Machine and Decision Tree algorithms performed. To compare and evaluate the performance I have used the Confusion Matrix, Accuracy, Precision, Recall, F1-score, and ROC/AUC score.\n",
    "<br><br>\n",
    "- I decided to use the confusion matrix as it is a useful tool for determining the accuracy of the model by observing the diagonal values for measuring the number of accurate classifications [12]. \n",
    "<br><br>\n",
    "- The below code is used for implmenting the Suppport Vector Machine and Decision Tree algorithms to make predictions and display the confusion matrix results for each."
   ]
  },
  {
   "cell_type": "code",
   "execution_count": 15,
   "id": "6322cfc4",
   "metadata": {},
   "outputs": [
    {
     "name": "stdout",
     "output_type": "stream",
     "text": [
      "Support Vector Machine Confusion Matrix:\n",
      "[[48  4]\n",
      " [18  9]]\n"
     ]
    },
    {
     "data": {
      "image/png": "[encoded data removed]",
      "text/plain": [
       "<Figure size 640x480 with 2 Axes>"
      ]
     },
     "metadata": {},
     "output_type": "display_data"
    }
   ],
   "source": [
    "# Import libraries required to carry out evaluation\n",
    "from sklearn.metrics import confusion_matrix, ConfusionMatrixDisplay, classification_report\n",
    "\n",
    "# Predict using Support Vector Machine Classifier\n",
    "supportVectorMachineClassifier.fit(X_train, Y_train)\n",
    "Y_predSVM = supportVectorMachineClassifier.predict(X_test)\n",
    "\n",
    "# Construct the Support Vector Machine Confusion Matrix\n",
    "cmSupportVectorMachine = confusion_matrix(Y_test, Y_predSVM, labels=supportVectorMachineClassifier.classes_)\n",
    "\n",
    "# Print Support Vector Machine Confusion Matrix\n",
    "print(\"Support Vector Machine Confusion Matrix:\")\n",
    "print(cmSupportVectorMachine)\n",
    "\n",
    "# Display Support Vector Machine Confusion Matrix\n",
    "displayCMSupportVectorMachine = ConfusionMatrixDisplay(confusion_matrix=cmSupportVectorMachine, \n",
    "                                                     display_labels=supportVectorMachineClassifier.classes_)\n",
    "displayCMSupportVectorMachine.plot()\n",
    "plt.show()"
   ]
  },
  {
   "cell_type": "code",
   "execution_count": 16,
   "id": "35208815",
   "metadata": {
    "scrolled": false
   },
   "outputs": [
    {
     "name": "stdout",
     "output_type": "stream",
     "text": [
      "Decision Tree Confusion Matrix:\n",
      "[[45  7]\n",
      " [17 10]]\n"
     ]
    },
    {
     "data": {
      "image/png": "[encoded data removed]",
      "text/plain": [
       "<Figure size 640x480 with 2 Axes>"
      ]
     },
     "metadata": {},
     "output_type": "display_data"
    }
   ],
   "source": [
    "# Predict using Decision Tree Classifier\n",
    "decisionTreeClassifier.fit(X_train, Y_train)\n",
    "Y_predDT = decisionTreeClassifier.predict(X_test)\n",
    "\n",
    "# Construct the Decision Tree Confusion Matrix\n",
    "cmDecisionTree = confusion_matrix(Y_test, Y_predDT, labels=decisionTreeClassifier.classes_)\n",
    "\n",
    "# Print Decision Tree Confusion Matrix\n",
    "print(\"Decision Tree Confusion Matrix:\")\n",
    "print(cmDecisionTree)\n",
    "\n",
    "# Display Decision Tree Confusion Matrix\n",
    "displayCMDecisionTree = ConfusionMatrixDisplay(confusion_matrix=cmDecisionTree, \n",
    "                                                     display_labels=decisionTreeClassifier.classes_)\n",
    "displayCMDecisionTree.plot()\n",
    "plt.show()"
   ]
  },
  {
   "cell_type": "markdown",
   "id": "1e4117bc",
   "metadata": {},
   "source": [
    "- As you can see from the above outputs the Support Vector Machine classifier proved to perform better in terms of predicting the negatives, both True and False. Whereas the Decision Tree classifier proved to perform better at predicting positives. It must be noted however, that overall the difference in performance is negligible.\n",
    "<br><br>\n",
    "- The below code uses the \"classification_report\" library from Scikit learn to provide a report detailing Accuracy, Precision, Recall, and F1-score scores for each of the algorithms."
   ]
  },
  {
   "cell_type": "code",
   "execution_count": 17,
   "id": "2f6db87b",
   "metadata": {},
   "outputs": [
    {
     "name": "stdout",
     "output_type": "stream",
     "text": [
      "Support Vector Machine Classification Report:\n",
      "              precision    recall  f1-score   support\n",
      "\n",
      "           0       0.73      0.92      0.81        52\n",
      "           1       0.69      0.33      0.45        27\n",
      "\n",
      "    accuracy                           0.72        79\n",
      "   macro avg       0.71      0.63      0.63        79\n",
      "weighted avg       0.72      0.72      0.69        79\n",
      "\n",
      "\n",
      "Decision Tree Classification Report:\n",
      "              precision    recall  f1-score   support\n",
      "\n",
      "           0       0.73      0.87      0.79        52\n",
      "           1       0.59      0.37      0.45        27\n",
      "\n",
      "    accuracy                           0.70        79\n",
      "   macro avg       0.66      0.62      0.62        79\n",
      "weighted avg       0.68      0.70      0.68        79\n",
      "\n"
     ]
    }
   ],
   "source": [
    "# Print Support Vector Machine Classification Report\n",
    "print(\"Support Vector Machine Classification Report:\")\n",
    "print(classification_report(Y_test, Y_predSVM))\n",
    "\n",
    "# Print Decision Tree Classification Report\n",
    "print(\"\\nDecision Tree Classification Report:\")      \n",
    "print(classification_report(Y_test, Y_predDT))"
   ]
  },
  {
   "cell_type": "markdown",
   "id": "cd9e8266",
   "metadata": {},
   "source": [
    "- As you can see from the above output again the scores are close with the Support Vector Machine classifier performing slightly better overall, though again the difference is negligible.\n",
    "<br><br>\n",
    "- The below code gets the test and train probability for each algorithm and uses the \"roc_auc_score\" library from from Scikit learn and the probability to get the ROC/AUC score."
   ]
  },
  {
   "cell_type": "code",
   "execution_count": 18,
   "id": "ce7e6e8d",
   "metadata": {},
   "outputs": [
    {
     "name": "stdout",
     "output_type": "stream",
     "text": [
      "Support Vector Machine AUC score test:\n",
      "0.7777777777777778\n",
      "\n",
      "Support Vector Machine AUC score train:\n",
      "0.9791955617198336\n",
      "\n",
      "Decision Tree AUC score test:\n",
      "0.6178774928774928\n",
      "\n",
      "Decision Tree AUC score train:\n",
      "1.0\n"
     ]
    },
    {
     "data": {
      "image/png": "[encoded data removed]",
      "text/plain": [
       "<Figure size 800x800 with 1 Axes>"
      ]
     },
     "metadata": {},
     "output_type": "display_data"
    }
   ],
   "source": [
    "# Import metrics library from Scikit learn\n",
    "from sklearn import metrics\n",
    "\n",
    "# Import roc_auc_score library from Scikit learn\n",
    "from sklearn.metrics import roc_auc_score\n",
    "\n",
    "# Import RocCurveDisplay library from Scikit learn\n",
    "from sklearn.metrics import RocCurveDisplay\n",
    "\n",
    "# Get train set probability\n",
    "probSVMTrain = np.squeeze(supportVectorMachineClassifier.predict_proba(X_train)[:,1].reshape(1,-1))\n",
    "probDTTrain = np.squeeze(decisionTreeClassifier.predict_proba(X_train)[:,1].reshape(1,-1))\n",
    "\n",
    "# Get test set probability\n",
    "probSVMTest = np.squeeze(supportVectorMachineClassifier.predict_proba(X_test)[:,1].reshape(1,-1))\n",
    "probDTTest = np.squeeze(decisionTreeClassifier.predict_proba(X_test)[:,1].reshape(1,-1))\n",
    "\n",
    "# Get Support Vector Machine false positive rates\n",
    "falsePosSVMTest, truePosSVMTest, thresholdSVMTest = metrics.roc_curve(Y_test, probSVMTest, pos_label=1)\n",
    "falsePosSVMTrain, truePosSVMTrain, thresholdSVMTrain = metrics.roc_curve(Y_train, probSVMTrain, pos_label=1)\n",
    "\n",
    "# Get Decision Tree Machine false positive rates\n",
    "falsePosDTTest, truePosDTTest, thresholdDTTest = metrics.roc_curve(Y_test, probDTTest, pos_label=1)\n",
    "falsePosDTTrain, truePosDTTrain, thresholdDTTrain = metrics.roc_curve(Y_train, probDTTrain, pos_label=1)\n",
    "\n",
    "# Get Support Vector Machine AUC\n",
    "aucScoreSVMTest = metrics.auc(falsePosSVMTest, truePosSVMTest)\n",
    "aucScoreSVMTrain = metrics.auc(falsePosSVMTrain, truePosSVMTrain)\n",
    "\n",
    "# Get Decision Tree AUC\n",
    "aucScoreDTTest = metrics.auc(falsePosDTTest, truePosDTTest)\n",
    "aucScoreDTTrain = metrics.auc(falsePosDTTrain, truePosDTTrain)\n",
    "\n",
    "# Print Support Vector Machine AUC\n",
    "print(\"Support Vector Machine AUC score test:\")\n",
    "print(aucScoreSVMTest)\n",
    "print(\"\\nSupport Vector Machine AUC score train:\")\n",
    "print(aucScoreSVMTrain)\n",
    "\n",
    "# Print Decision Tree AUC\n",
    "print(\"\\nDecision Tree AUC score test:\")\n",
    "print(aucScoreDTTest)\n",
    "print(\"\\nDecision Tree AUC score train:\")\n",
    "print(aucScoreDTTrain)\n",
    "\n",
    "# Plot and show ROC Curve\n",
    "plt.figure(figsize=(8,8))\n",
    "plt.plot(falsePosSVMTest, truePosSVMTest, linestyle='dashed', color='blue', label='SVM test = %0.2f'%aucScoreSVMTest)\n",
    "plt.plot(falsePosDTTest, truePosDTTest, linestyle='dotted', color='red', label='DT test = %0.2f'%aucScoreDTTest)\n",
    "plt.plot(falsePosSVMTrain, truePosSVMTrain, linestyle='dashed', color='green', label='SVM train = %0.2f'%aucScoreSVMTrain)\n",
    "plt.plot(falsePosDTTrain, truePosDTTrain, linestyle='dotted', color='black', label='DT train = %0.2f'%aucScoreDTTrain)\n",
    "plt.plot([0,1],[0,1], linestyle='solid', color='orange')\n",
    "plt.title(\"ROC Curve\")\n",
    "plt.xlabel('False Positive Rate')\n",
    "plt.ylabel('True Positive Rate')\n",
    "plt.legend()\n",
    "plt.show() "
   ]
  },
  {
   "cell_type": "markdown",
   "id": "0b182184",
   "metadata": {},
   "source": [
    "- As you can see from the outputs above both algorithms performed extremely well using the training set with Decision Tree getting a perfect score of 1. Support Vector Machine also had a near perfect score using the training data. Both algorithms didnt perform as well using the testing set which is to be expected as its difficult to acheive the same performance on testing data. Using the testing set Support Vector Machine out performed Decision Tree acheiving a far greater rate of predicting true positives."
   ]
  },
  {
   "cell_type": "markdown",
   "id": "d105eea6",
   "metadata": {},
   "source": [
    "**Feature selection: exploration of the best number of features (“best k features”) to use for each \n",
    "of the two Machine Learning methods (using the default parameters in each case)**\n",
    "- This section sets out how feature selection was implemented on both of the algorithms. I decided to use feature selection as it provides a useful way to remove irrelevant and redundant data [13]. \n",
    "<br><br>\n",
    "- The below code carries out feature selection using the SelectKBest library from Scikit learn for the Support Vector Machine algorithm."
   ]
  },
  {
   "cell_type": "code",
   "execution_count": 19,
   "id": "507bba77",
   "metadata": {},
   "outputs": [
    {
     "name": "stdout",
     "output_type": "stream",
     "text": [
      "Mean scores for train set number of features Support Vector Machine:\n",
      "\n",
      "Num of Features : 4,   Mean Score : 0.8375\n",
      "Num of Features : 6,   Mean Score : 0.8277217741935484\n",
      "Num of Features : 7,   Mean Score : 0.8277217741935484\n",
      "Num of Features : 8,   Mean Score : 0.8245967741935484\n",
      "Num of Features : 5,   Mean Score : 0.8180443548387096\n",
      "Num of Features : 9,   Mean Score : 0.8081653225806452\n",
      "Num of Features : 10,   Mean Score : 0.8015120967741935\n",
      "Num of Features : 3,   Mean Score : 0.7984879032258065\n",
      "Num of Features : 11,   Mean Score : 0.7920362903225807\n",
      "Num of Features : 12,   Mean Score : 0.7825604838709678\n",
      "Num of Features : 14,   Mean Score : 0.7699596774193549\n",
      "Num of Features : 15,   Mean Score : 0.7574596774193549\n",
      "Num of Features : 2,   Mean Score : 0.757358870967742\n",
      "Num of Features : 16,   Mean Score : 0.757358870967742\n",
      "Num of Features : 13,   Mean Score : 0.7540322580645162\n",
      "Num of Features : 1,   Mean Score : 0.7256048387096775\n"
     ]
    }
   ],
   "source": [
    "# Import required libraries\n",
    "from sklearn.model_selection import KFold, cross_validate\n",
    "from sklearn.feature_selection import SelectKBest\n",
    "from sklearn.feature_selection import f_classif\n",
    "from numpy import array\n",
    "from sklearn.metrics import accuracy_score\n",
    "\n",
    "# Print Info\n",
    "print(\"Mean scores for train set number of features Support Vector Machine:\\n\")\n",
    "\n",
    "# Create a dictionary to store number of features as key and mean score as value\n",
    "scoreDictSVM = {}\n",
    "\n",
    "# Applying k-Fold Cross Validation for Support Vector Machine\n",
    "crossValidationSVM = KFold(n_splits=10, shuffle=True, random_state=0)\n",
    "\n",
    "# Loop over different nnumbers of features 17 now as we have dummy variables \n",
    "for i in range(1, 17):\n",
    "    \n",
    "    # Identify the relevant features based on the training data\n",
    "    select = SelectKBest(score_func=f_classif, k=i).fit(X_train, Y_train)\n",
    "    \n",
    "    # Now transform the training and test inputs\n",
    "    X_trainFS = select.transform(X_train)   \n",
    "    X_testFS = select.transform(X_test)\n",
    "    \n",
    "    # Get mean scores from cross validation\n",
    "    scoresSVM = cross_validate(estimator = supportVectorMachineClassifier, X = X_trainFS, y = Y_train, cv = crossValidationSVM)\n",
    "    \n",
    "    # Update the dictionay with number of features and mean score\n",
    "    scoreDictSVM.update({i : scoresSVM['test_score'].mean()})\n",
    "\n",
    "# Sort the dictionary by value descending\n",
    "sortedScoreDictSVM = dict(sorted(scoreDictSVM.items(), key=lambda item: item[1], reverse=True))\n",
    "\n",
    "# Print out the dictionary\n",
    "for i in sortedScoreDictSVM:\n",
    "    print(\"Num of Features : {},   Mean Score : {}\".format(i,sortedScoreDictSVM[i]))"
   ]
  },
  {
   "cell_type": "markdown",
   "id": "0e069f9e",
   "metadata": {},
   "source": [
    "- As you can see from the above output it appears that the best number of features to use for Support Vector Machine is 4. This number achieved the best mean score using 10-fold cross-validation. Somewhat unsurprisingly when only using 1 feature the algorithm performed the worst but in general the more features that were used the worse the scores became.\n",
    "<br><br>\n",
    "- The below code carries out feature selection using the SelectKBest library from Scikit learn for the Decision Tree algorithm."
   ]
  },
  {
   "cell_type": "code",
   "execution_count": 20,
   "id": "ecd26ef4",
   "metadata": {},
   "outputs": [
    {
     "name": "stdout",
     "output_type": "stream",
     "text": [
      "Mean scores for train set number of features Decision Tree:\n",
      "\n",
      "Num of Features : 6,   Mean Score : 0.8306451612903226\n",
      "Num of Features : 7,   Mean Score : 0.8149193548387096\n",
      "Num of Features : 8,   Mean Score : 0.811491935483871\n",
      "Num of Features : 13,   Mean Score : 0.8054435483870968\n",
      "Num of Features : 10,   Mean Score : 0.805141129032258\n",
      "Num of Features : 9,   Mean Score : 0.8019153225806452\n",
      "Num of Features : 4,   Mean Score : 0.7991935483870968\n",
      "Num of Features : 11,   Mean Score : 0.7924395161290323\n",
      "Num of Features : 5,   Mean Score : 0.7860887096774194\n",
      "Num of Features : 12,   Mean Score : 0.7830645161290323\n",
      "Num of Features : 14,   Mean Score : 0.7795362903225806\n",
      "Num of Features : 16,   Mean Score : 0.7795362903225806\n",
      "Num of Features : 17,   Mean Score : 0.779233870967742\n",
      "Num of Features : 15,   Mean Score : 0.7762096774193549\n",
      "Num of Features : 3,   Mean Score : 0.7735887096774194\n",
      "Num of Features : 2,   Mean Score : 0.7640120967741936\n",
      "Num of Features : 1,   Mean Score : 0.619858870967742\n"
     ]
    }
   ],
   "source": [
    "# Print Info\n",
    "print(\"Mean scores for train set number of features Decision Tree:\\n\")\n",
    "\n",
    "# Create a dictionary to store number of features as key and mean score as value\n",
    "scoreDictDT = {}\n",
    "\n",
    "# Applying k-Fold Cross Validation for Support Vector Machine\n",
    "crossValidationDT = KFold(n_splits=10, shuffle=True, random_state=0)\n",
    "\n",
    "# Loop over different nnumbers of features 17 now as we have dummy variables \n",
    "for i in range(1, 18):\n",
    "    \n",
    "    # Identify the relevant features based on the training data\n",
    "    select = SelectKBest(score_func=f_classif, k=i).fit(X_train, Y_train)\n",
    "    \n",
    "    # Now transform the training and test inputs\n",
    "    X_trainFS = select.transform(X_train)   \n",
    "    X_testFS = select.transform(X_test)\n",
    "    \n",
    "    # Get mean scores from cross validation\n",
    "    scoresDT = cross_validate(estimator = decisionTreeClassifier, X = X_trainFS, y = Y_train, cv = crossValidationDT)\n",
    "    \n",
    "    # Update the dictionay with number of features and mean score\n",
    "    scoreDictDT.update({i : scoresDT['test_score'].mean()})\n",
    "    \n",
    "# Sort the dictionary by value descending\n",
    "sortedScoreDictDT = dict(sorted(scoreDictDT.items(), key=lambda item: item[1], reverse=True))\n",
    "\n",
    "# Print out the dictionary\n",
    "for i in sortedScoreDictDT:\n",
    "    print(\"Num of Features : {},   Mean Score : {}\".format(i,sortedScoreDictDT[i]))"
   ]
  },
  {
   "cell_type": "markdown",
   "id": "a7277025",
   "metadata": {},
   "source": [
    "- As you can see from the above output it appears that the best number of features to use for Decision Tree is 6. This number achieved the best mean score using 10-fold cross-validation. Again, unsurprisingly when only using 1 feature the algorithm performed the worst. however it is interesting to note that unlike the Support Vector Machine feature selection, some high numbers of features here like 10 and 13 scored highly."
   ]
  },
  {
   "cell_type": "markdown",
   "id": "d037326d",
   "metadata": {},
   "source": [
    "**Recursive Feature Elimination (RFE): application of RFE for each Machine Learning method, \n",
    "and comparison of performance using appropriate evaluation metrics (using the default \n",
    "parameters in each case)**\n",
    "- This section sets how how Recursive Feature Elimination (RFE) was applied to both machine learning algorithms. I have applied RFE as it is a useful tool to assist in improving classification accuracy. It must be noted however that there can be issues dealing with overfitting and improving accuracy without unnecessary record deletion [14].\n",
    "<br><br>\n",
    "- The below code demonstartes how RFE was applied to the Support Vectore Machine algorithm."
   ]
  },
  {
   "cell_type": "code",
   "execution_count": 21,
   "id": "d44751e6",
   "metadata": {},
   "outputs": [
    {
     "name": "stdout",
     "output_type": "stream",
     "text": [
      "SVM Feature Ranking:\n",
      "[ 7  6  1 10  9  8  1  1  1  1  1  2  5  4  1  3  1]\n",
      "\n",
      "SVM Features Selected:\n",
      "[False False  True False False False  True  True  True  True  True False\n",
      " False False  True False  True]\n",
      "\n",
      "SVM Accuracy pre RFE: 0.722\n",
      "\n",
      "SVM Accuracy post RFE: 0.759\n"
     ]
    }
   ],
   "source": [
    "# Import RFE library from Scikit learn\n",
    "from sklearn.feature_selection import RFE\n",
    "\n",
    "# Declare new SVM Classifier \n",
    "supportVectorMachineClassifierRFE = SVC(kernel='linear')\n",
    "selectRFESVM = RFE(supportVectorMachineClassifierRFE)\n",
    "selectRFESVM = selectRFESVM.fit(X_train, Y_train)\n",
    "\n",
    "# Print features results\n",
    "print('SVM Feature Ranking:')\n",
    "print(selectRFESVM.ranking_)\n",
    "print('\\nSVM Features Selected:')\n",
    "print(selectRFESVM.support_)\n",
    "\n",
    "# Print pre RFE SVM accuracy\n",
    "accuracyRFESVMPre = accuracy_score(Y_test, Y_predSVM)\n",
    "print('\\nSVM Accuracy pre RFE: {:5.3f}'.format(accuracyRFESVMPre))\n",
    "\n",
    "# Apply RFE to the data\n",
    "X_trainRFESVM = selectRFESVM.transform(X_train)\n",
    "X_testRFESVM = selectRFESVM.transform(X_test)\n",
    "supportVectorMachineClassifier.fit(X_trainRFESVM, Y_train)\n",
    "\n",
    "# Predict SVM test cases\n",
    "Y_predRFESVM = supportVectorMachineClassifier.predict(X_testRFESVM)\n",
    "\n",
    "# Print post RFE SVM accuracy\n",
    "accuracyRFESVMPost = accuracy_score(Y_test, Y_predRFESVM)\n",
    "print('\\nSVM Accuracy post RFE: {:5.3f}'.format(accuracyRFESVMPost))"
   ]
  },
  {
   "cell_type": "markdown",
   "id": "6202cd52",
   "metadata": {},
   "source": [
    "- As you can see from the above output RFE was successfully applied to the Support Vectore Machine algorithm. You can see from the output that the accuracy of the results has improved after RFE was appplied.\n",
    "<br><br>\n",
    "- The below code demonstartes how RFE was applied to the Decision Tree algorithm."
   ]
  },
  {
   "cell_type": "code",
   "execution_count": 22,
   "id": "b6f773e8",
   "metadata": {},
   "outputs": [
    {
     "name": "stdout",
     "output_type": "stream",
     "text": [
      "DT Feature Ranking:\n",
      "[10  9  3  8  1  5  1  1  7  1  2  1  4  1  1  6  1]\n",
      "\n",
      "DT Features Selected:\n",
      "[False False False False  True False  True  True False  True False  True\n",
      " False  True  True False  True]\n",
      "\n",
      "DT Accuracy pre RFE: 0.696\n",
      "\n",
      "DT Accuracy post RFE: 0.734\n"
     ]
    }
   ],
   "source": [
    "# Declare new SVM Classifier \n",
    "selectRFEDT = RFE(decisionTreeClassifier)\n",
    "selectRFEDT = selectRFEDT.fit(X_train, Y_train)\n",
    "\n",
    "# Print features results\n",
    "print('DT Feature Ranking:')\n",
    "print(selectRFEDT.ranking_)\n",
    "print('\\nDT Features Selected:')\n",
    "print(selectRFEDT.support_)\n",
    "\n",
    "# Print pre RFE SVM accuracy\n",
    "accuracyRFEDTPre = accuracy_score(Y_test, Y_predDT)\n",
    "print('\\nDT Accuracy pre RFE: {:5.3f}'.format(accuracyRFEDTPre))\n",
    "\n",
    "# Apply RFE to the data\n",
    "X_trainRFEDT = selectRFESVM.transform(X_train)\n",
    "X_testRFEDT = selectRFESVM.transform(X_test)\n",
    "decisionTreeClassifier.fit(X_trainRFEDT, Y_train)\n",
    "\n",
    "# Predict SVM test cases\n",
    "Y_predRFEDT = decisionTreeClassifier.predict(X_testRFEDT)\n",
    "\n",
    "# Print post RFE SVM accuracy\n",
    "accuracyRFEDTPost = accuracy_score(Y_test, Y_predRFEDT)\n",
    "print('\\nDT Accuracy post RFE: {:5.3f}'.format(accuracyRFEDTPost))"
   ]
  },
  {
   "cell_type": "markdown",
   "id": "54162a73",
   "metadata": {},
   "source": [
    "- As you can see from the above output RFE was successfully applied to the Decision Tree algorithm. Again, you can see from the output that the accuracy of the results has improved after RFE was appplied.\n",
    "<br><br>\n",
    "- Note the difference in the features that were selected for the algorithms. There is a clear indication that the value of features depends on the algoritm being used. It is also interesting to note that although the accuracy of both algorithms improved after RFE was applied the difference in accuracy between the algorithms has not changed all that much, with Support Vector Machine still proving to be more accruate than Decision Tree."
   ]
  },
  {
   "cell_type": "markdown",
   "id": "22ba3e17",
   "metadata": {},
   "source": [
    "**Tuning the hyper-parameters: for each of the two Machine Learning methods, using GridSearch\n",
    "to identify the best choices of parameters for each classifier. (At this stage, the training should \n",
    "be carried out using the selected feature set from Recursive Feature Elimination)**\n",
    "- This section sets out how hyperparameters were tuned for each of the algorithms. Most machine learning algorithms have parameters that need fixed before they are run these are known as hyperparameters [15]. It has been said that tuning hyperparameters can be more important than choosing an algorithm [16]. \n",
    "<br><br>\n",
    "- The below code tunes hyperparamters for the Support Vector machine algorithm using the GridSearchCV library from Scikit learn."
   ]
  },
  {
   "cell_type": "code",
   "execution_count": 23,
   "id": "6de1e599",
   "metadata": {
    "scrolled": true
   },
   "outputs": [
    {
     "name": "stdout",
     "output_type": "stream",
     "text": [
      "SVM best score: \n",
      "0.8339989759344599\n",
      "\n",
      "SVM best estimator: \n",
      "SVC(C=18, probability=True, random_state=0)\n",
      "\n",
      "SVM best parameters: \n",
      "{'C': 18, 'kernel': 'rbf'}\n",
      "\n",
      "SVM best index: \n",
      "3\n"
     ]
    }
   ],
   "source": [
    "# Import GridSearchCV library from Scikit learn\n",
    "from sklearn.model_selection import GridSearchCV\n",
    "\n",
    "# Set parameters\n",
    "parametersSVM = {'kernel':('linear', 'rbf'), 'C':[1, 18]}\n",
    "\n",
    "# Apply Grid Search to SVM using the training set from the RFE above\n",
    "gridSearchCV = GridSearchCV(supportVectorMachineClassifier, parametersSVM)\n",
    "gridSearchCV.fit(X_trainRFESVM, Y_train)\n",
    "\n",
    "# Print Grid Search results\n",
    "print(\"SVM best score: \")\n",
    "print(gridSearchCV.best_score_)\n",
    "print(\"\\nSVM best estimator: \")\n",
    "print(gridSearchCV.best_estimator_)\n",
    "print(\"\\nSVM best parameters: \")\n",
    "print(gridSearchCV.best_params_)\n",
    "print(\"\\nSVM best index: \")\n",
    "print(gridSearchCV.best_index_)"
   ]
  },
  {
   "cell_type": "markdown",
   "id": "4ff92625",
   "metadata": {},
   "source": [
    "- As you can see from the output the best parameters for Support Vector Machine include \"rbf\" set as the kernel parameter. This parameter was used earlier when running the algorithm for the initial predicitions."
   ]
  },
  {
   "cell_type": "code",
   "execution_count": 24,
   "id": "54d1fb76",
   "metadata": {},
   "outputs": [
    {
     "name": "stdout",
     "output_type": "stream",
     "text": [
      "DT best score: \n",
      "0.8019457245263697\n",
      "\n",
      "DT best estimator: \n",
      "DecisionTreeClassifier(max_depth=8, random_state=0)\n",
      "\n",
      "DT best parameters: \n",
      "{'criterion': 'gini', 'max_depth': 8}\n",
      "\n",
      "DT best index: \n",
      "7\n"
     ]
    }
   ],
   "source": [
    "# Set parameters\n",
    "parametersDT = {'criterion':['gini','entropy'],'max_depth': np.arange(1, 18)}\n",
    "\n",
    "# Apply Grid Search to DT using the training set from the RFE above\n",
    "gridSearchCV = GridSearchCV(decisionTreeClassifier, parametersDT)\n",
    "gridSearchCV.fit(X_trainRFESVM, Y_train)\n",
    "\n",
    "# Print Grid Search results\n",
    "print(\"DT best score: \")\n",
    "print(gridSearchCV.best_score_)\n",
    "print(\"\\nDT best estimator: \")\n",
    "print(gridSearchCV.best_estimator_)\n",
    "print(\"\\nDT best parameters: \")\n",
    "print(gridSearchCV.best_params_)\n",
    "print(\"\\nDT best index: \")\n",
    "print(gridSearchCV.best_index_)"
   ]
  },
  {
   "cell_type": "markdown",
   "id": "78b3801f",
   "metadata": {},
   "source": [
    "- As you can see from the output the best parameters for Decision Tree include \"gini\" set as the criterion parameter. This is interesting to note as earlier the criterion parameter was set to \"entropy\" when making the original pedictions, it is logical to assume that perhaps results would have been better if \"gini\" was used instead."
   ]
  },
  {
   "cell_type": "markdown",
   "id": "65db06c9",
   "metadata": {},
   "source": [
    "**References**\n",
    "1.\tVijay Kotu, Bala Deshpande, Chapter 3 - Data Exploration, Data Science (Second Edition), Morgan Kaufmann, Pages 39-64. (2019).\n",
    "2.\tZuvić-Butorac M., Characteristics of categorical data analysis, Acta Med Croatica, Suppl 1:63-79. (2006) [Online] Available: <a href=\"https://pubmed.ncbi.nlm.nih.gov/16526308/\">https://pubmed.ncbi.nlm.nih.gov/16526308/</a>[Accessed: 6/12/2022].\n",
    "3.\tJosé M. Jerez, Ignacio Molina, Pedro J. García-Laencina, Emilio Alba, Nuria Ribelles, Miguel Martín, Leonardo Franco, Missing data imputation using statistical and machine learning methods in a real breast cancer problem, Artificial Intelligence in Medicine, Volume 50, Issue 2, Pages 105-115. (2010).\n",
    "4.\tSatyam Kumar, Medium, Towards Data Science, 7 Ways to Handle Missing Values in Machine Learning, Popular strategies to handle missing values in the dataset. (24th Jul, 2020) [Online] Available: <a href=\"https://towardsdatascience.com/7-ways-to-handle-missing-values-in-machine-learning-1a6326adf79e\">https://towardsdatascience.com/7-ways-to-handle-missing-values-in-machine-learning-1a6326adf79e</a> [Accessed: 6/12/2022].\n",
    "5.\tKhan, S.I., Hoque, A.S.M.L. SICE: an improved missing data imputation technique. J Big Data 7, 37. (2020).\n",
    "6.\tRoberta Bortolotti, Tutorial K - Data Prep 2-2: Dummy Coding Category Variables, Handbook of Statistical Analysis and Data Mining Applications (Second Edition), Academic Press, Pages 497-514. (2018)\n",
    "7.\tBrett Lantz, “Machine Learning with R”, PacktPublishing Limited, ISBN - 978-1782162148. (2013)\n",
    "8.\tZach, Statology, Label Encoding vs. One Hot Encoding: What’s the Difference?. (8th Aug, 2022) [Online] Available: <a href=\"https://www.statology.org/label-encoding-vs-one-hot-encoding/\">https://www.statology.org/label-encoding-vs-one-hot-encoding/</a> [Accessed: 6/12/2022].\n",
    "9.\tHow to Learn Machine Learning, Feature Scaling in Unsupervised Machine Learning. [Online] Available: <a href=\"https://howtolearnmachinelearning.com/articles/feature_scaling_machine_learning/\">https://howtolearnmachinelearning.com/articles/feature_scaling_machine_learning/</a> [Accessed: 6/2/2022].\n",
    "10.\tVaishali H. Kamble, Manisha P. Dale, Chapter 1 - Machine learning approach for longitudinal face recognition of children, In Cognitive Data Science in Sustainable Computing, Machine Learning for Biometrics, Academic Press, Pages 1-27. (2022).\n",
    "11.\tBattula, Krishna, RESEARCH OF MACHINE LEARNING ALGORITHMS USING K-FOLD CROSS VALIDATION, International Journal of Engineering and Advanced Technology, 8, 215-218. (2021) [Online] Available: <a href=\"https://www.researchgate.net/publication/349946623_RESEARCH_OF_MACHINE_LEARNING_ALGORITHMS_USING_K-FOLD_CROSS_VALIDATION\">https://www.researchgate.net/publication/349946623_RESEARCH_OF_MACHINE_LEARNING_ALGORITHMS_USING_K-FOLD_CROSS_VALIDATION</a> [Accessed: 7/12/2022].\n",
    "12.\tKarimi, Zohreh, Confusion Matrix. (2021) [Online] Available: (PDF) Confusion Matrix (researchgate.net) [Accessed: 7/12/22].\n",
    "13.\tJie Cai, Jiawei Luo, Shulin Wang, Sheng Yang, Feature selection in machine learning: A new perspective, Neurocomputing, Volume 300, Pages 70-79, ISSN 0925-2312. (2018) [Online] Available: <a href=\"https://www.sciencedirect.com/science/article/abs/pii/S0925231218302911\">https://www.sciencedirect.com/science/article/abs/pii/S0925231218302911</a> [Accessed: 11/12/2022].\n",
    "14.\tMisra, Puneet & Singh, Arun, Improving the Classification Accuracy using Recursive Feature Elimination with Cross-Validation, 11, 659-665. (2020) [Online] Available: <a href=\"https://www.researchgate.net/publication/344181117_Improving_the_Classification_Accuracy_using_Recursive_Feature_Elimination_with_Cross-Validation\">https://www.researchgate.net/publication/344181117_Improving_the_Classification_Accuracy_using_Recursive_Feature_Elimination_with_Cross-Validation</a> [Accessed: 11/12/2022].\n",
    "15.\tRafael G. Mantovani, Andre L. D. Rossi, Joaquin Vanschoren, Bernd Bischl, and Andre C. P. L. F. Carvalho, To tune or not to tune: Recommending when to adjust SVM hyper-parameters via meta-learning, In 2015 International Joint Conference on Neural Networks (IJCNN), IEEE. (2015) [Online] Available: <a href=\"https://ieeexplore.ieee.org/document/7280644\">https://ieeexplore.ieee.org/document/7280644</a> [Accessed: 11/12/2022].\n",
    "16.\tNiklas Lavesson and Paul Davidsson, Quantifying the Impact of Learning Algorithm Parameter Tuning, In Proceedings of the 21st National Conference on Artificial Intelligence - Volume 1 (AAAI’06), AAAI Press, 395–400. (2006) [Online] Available: <a href=\"https://dl.acm.org/doi/10.5555/1597538.1597602\">https://dl.acm.org/doi/10.5555/1597538.1597602</a> [Accessed: 11/12/2022]."
   ]
  }
 ],
 "metadata": {
  "kernelspec": {
   "display_name": "Python 3 (ipykernel)",
   "language": "python",
   "name": "python3"
  },
  "language_info": {
   "codemirror_mode": {
    "name": "ipython",
    "version": 3
   },
   "file_extension": ".py",
   "mimetype": "text/x-python",
   "name": "python",
   "nbconvert_exporter": "python",
   "pygments_lexer": "ipython3",
   "version": "3.9.13"
  }
 },
 "nbformat": 4,
 "nbformat_minor": 5
}
